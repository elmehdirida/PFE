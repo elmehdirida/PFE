{
 "cells": [
  {
   "cell_type": "code",
   "execution_count": 3,
   "metadata": {},
   "outputs": [
    {
     "name": "stderr",
     "output_type": "stream",
     "text": [
      "2023-12-21 16:36:06.957082: I external/local_tsl/tsl/cuda/cudart_stub.cc:31] Could not find cuda drivers on your machine, GPU will not be used.\n",
      "2023-12-21 16:36:06.990225: E external/local_xla/xla/stream_executor/cuda/cuda_dnn.cc:9261] Unable to register cuDNN factory: Attempting to register factory for plugin cuDNN when one has already been registered\n",
      "2023-12-21 16:36:06.990257: E external/local_xla/xla/stream_executor/cuda/cuda_fft.cc:607] Unable to register cuFFT factory: Attempting to register factory for plugin cuFFT when one has already been registered\n",
      "2023-12-21 16:36:06.991483: E external/local_xla/xla/stream_executor/cuda/cuda_blas.cc:1515] Unable to register cuBLAS factory: Attempting to register factory for plugin cuBLAS when one has already been registered\n",
      "2023-12-21 16:36:06.997457: I external/local_tsl/tsl/cuda/cudart_stub.cc:31] Could not find cuda drivers on your machine, GPU will not be used.\n",
      "2023-12-21 16:36:06.998341: I tensorflow/core/platform/cpu_feature_guard.cc:182] This TensorFlow binary is optimized to use available CPU instructions in performance-critical operations.\n",
      "To enable the following instructions: AVX2 FMA, in other operations, rebuild TensorFlow with the appropriate compiler flags.\n",
      "2023-12-21 16:36:08.011184: W tensorflow/compiler/tf2tensorrt/utils/py_utils.cc:38] TF-TRT Warning: Could not find TensorRT\n"
     ]
    },
    {
     "ename": "NameError",
     "evalue": "name 'input_length' is not defined",
     "output_type": "error",
     "traceback": [
      "\u001b[0;31m---------------------------------------------------------------------------\u001b[0m",
      "\u001b[0;31mNameError\u001b[0m                                 Traceback (most recent call last)",
      "Cell \u001b[0;32mIn[3], line 5\u001b[0m\n\u001b[1;32m      2\u001b[0m \u001b[38;5;28;01mfrom\u001b[39;00m \u001b[38;5;21;01mkeras\u001b[39;00m\u001b[38;5;21;01m.\u001b[39;00m\u001b[38;5;21;01mlayers\u001b[39;00m \u001b[38;5;28;01mimport\u001b[39;00m Input, LSTM, Conv1D, MaxPooling1D, Flatten, Dense, concatenate\n\u001b[1;32m      4\u001b[0m \u001b[38;5;66;03m# Define input shape\u001b[39;00m\n\u001b[0;32m----> 5\u001b[0m input_shape \u001b[38;5;241m=\u001b[39m (\u001b[43minput_length\u001b[49m, input_dim)\n\u001b[1;32m      7\u001b[0m \u001b[38;5;66;03m# Define LSTM model\u001b[39;00m\n\u001b[1;32m      8\u001b[0m lstm_input \u001b[38;5;241m=\u001b[39m Input(shape\u001b[38;5;241m=\u001b[39minput_shape)\n",
      "\u001b[0;31mNameError\u001b[0m: name 'input_length' is not defined"
     ]
    }
   ],
   "source": [
    "from keras.models import Model\n",
    "from keras.layers import Input, LSTM, Conv1D, MaxPooling1D, Flatten, Dense, concatenate\n",
    "\n",
    "# Define input shape\n",
    "input_shape = (input_length, input_dim)\n",
    "\n",
    "# Define LSTM model\n",
    "lstm_input = Input(shape=input_shape)\n",
    "lstm_output = LSTM(units=lstm_units)(lstm_input)\n",
    "\n",
    "# Define CNN model\n",
    "cnn_input = Input(shape=input_shape)\n",
    "cnn_output = Conv1D(filters=cnn_filters, kernel_size=cnn_kernel_size, activation='relu')(cnn_input)\n",
    "cnn_output = MaxPooling1D(pool_size=cnn_pool_size)(cnn_output)\n",
    "cnn_output = Flatten()(cnn_output)\n",
    "\n",
    "# Concatenate LSTM and CNN outputs\n",
    "merged_output = concatenate([lstm_output, cnn_output])\n",
    "\n",
    "# Add fully connected layers\n",
    "fc_output = Dense(units=fc_units, activation='relu')(merged_output)\n",
    "output = Dense(units=output_dim, activation='linear')(fc_output)\n",
    "\n",
    "# Create the model\n",
    "model = Model(inputs=[lstm_input, cnn_input], outputs=output)\n",
    "\n",
    "# Compile the model\n",
    "model.compile(optimizer='adam', loss='mse')\n",
    "\n",
    "# Train the model\n",
    "model.fit([lstm_input_data, cnn_input_data], output_data, epochs=num_epochs, batch_size=batch_size)\n",
    "\n"
   ]
  }
 ],
 "metadata": {
  "kernelspec": {
   "display_name": "Python 3",
   "language": "python",
   "name": "python3"
  },
  "language_info": {
   "codemirror_mode": {
    "name": "ipython",
    "version": 3
   },
   "file_extension": ".py",
   "mimetype": "text/x-python",
   "name": "python",
   "nbconvert_exporter": "python",
   "pygments_lexer": "ipython3",
   "version": "3.10.13"
  }
 },
 "nbformat": 4,
 "nbformat_minor": 2
}
